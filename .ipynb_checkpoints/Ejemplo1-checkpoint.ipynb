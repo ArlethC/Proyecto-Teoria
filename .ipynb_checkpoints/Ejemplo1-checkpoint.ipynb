{
 "cells": [
  {
   "cell_type": "code",
   "execution_count": 1,
   "id": "f6c8d525-da30-451e-9393-abc937724393",
   "metadata": {},
   "outputs": [],
   "source": [
    "import pandas as pd"
   ]
  },
  {
   "cell_type": "code",
   "execution_count": 2,
   "id": "818ee55a-db51-46e7-a98f-feecbcee7c70",
   "metadata": {},
   "outputs": [],
   "source": [
    "d1 = {\n",
    "    \"ds\": \"pacientes\",\n",
    "    \"columns\": [\n",
    "        {\n",
    "            \"name\": \"id\",\n",
    "            \"type\": \"unique\"\n",
    "        },\n",
    "        {\n",
    "            \"name\": \"edad\",\n",
    "            \"type\": \"numeric\",\n",
    "            \"values\": {\n",
    "                \"min\": 1,\n",
    "                \"max\": 100,\n",
    "                \"std\": 3.48,\n",
    "                \"mean\": 46.5\n",
    "            }\n",
    "        },\n",
    "        {\n",
    "            \"name\": \"genero\",\n",
    "            \"type\": \"category\",\n",
    "            \"values\": [\"Femenino\", \"Masculino\"]\n",
    "        },\n",
    "        {\n",
    "            \"name\": \"primera_cita\",\n",
    "            \"type\": \"date\",\n",
    "            \"values\": {\n",
    "                \"min\": \"1930-02-23\",\n",
    "                \"max\": \"2024-06-04\"\n",
    "            }\n",
    "        }\n",
    "    ],\n",
    "    \"random\": False\n",
    "}"
   ]
  },
  {
   "cell_type": "code",
   "execution_count": null,
   "id": "0a7e6dae-432b-41ee-8b10-d389c1087bad",
   "metadata": {},
   "outputs": [],
   "source": [
    "d2 = {\n",
    "    \"ds\": \"doctores\",\n",
    "    \"columns\": [\n",
    "        {\n",
    "            \"name\": \"id\", \n",
    "            \"type\": \"unique\"\n",
    "        },\n",
    "        {\n",
    "            \"name\": \"fecha_ingreso\",\n",
    "            \"type\": \"date\",\n",
    "            \"values\": {\n",
    "                \"min\": \"2000-02-23\",\n",
    "                \"max\": \"2024-03-04\"\n",
    "            }\n",
    "        },\n",
    "        {\n",
    "            \"name\": \"departamento\",\n",
    "            \"type\": \"category\",\n",
    "            \"values\": [\"MGeneral\", \"Cirugía\", \"Oncología\", \"Pediatría\"]\n",
    "        },\n",
    "        {\n",
    "            \"name\": \"hospital\",\n",
    "            \"type\": \"foreign\",\n",
    "            \"values\": \"hospitales.nombre\"\n",
    "        }\n",
    "    ],\n",
    "    \"random\": False\n",
    "}"
   ]
  },
  {
   "cell_type": "code",
   "execution_count": 1,
   "id": "3ebc537a-7925-4c11-84a6-ce500fe56b0d",
   "metadata": {},
   "outputs": [],
   "source": [
    "d3 = {\n",
    "    \"ds\": \"hospitales\",\n",
    "    \"columns\": [\n",
    "        {\n",
    "            \"name\": \"nombre\",\n",
    "            \"type\": \"unique\",\n",
    "        },\n",
    "        {\n",
    "            \"name\": \"ciudad\",\n",
    "            \"type\": \"category\",\n",
    "            \"values\": [\"SP\", \"T\", \"C\", \"M\", \"SB\", \"PC\"]\n",
    "        },\n",
    "        {\n",
    "            \"name\": \"cantidad_empleados\",\n",
    "            \"type\": \"numeric\",\n",
    "            \"values\": {\n",
    "                \"min\": 800,\n",
    "                \"max\": 10000\n",
    "            }\n",
    "        }\n",
    "    ],\n",
    "    \"random\": True,\n",
    "    \"random_rows\": 1500\n",
    "}"
   ]
  },
  {
   "cell_type": "code",
   "execution_count": 2,
   "id": "85a1e9e1-d355-48f9-ad52-9892fa972985",
   "metadata": {},
   "outputs": [],
   "source": [
    "d4 = {\n",
    "    \"ds\": \"citas\",\n",
    "    \"columns\": [\n",
    "        {\n",
    "            \"name\": \"doctor\",\n",
    "            \"type\": \"foreign\",\n",
    "            \"values\": \"doctores.id\"\n",
    "        },\n",
    "        {\n",
    "            \"name\": \"paciente\",\n",
    "            \"type\": \"foreign\",\n",
    "            \"values\": \"pacientes.id\"\n",
    "        },\n",
    "        {\n",
    "            \"name\": \"fecha_cita\",\n",
    "            \"type\": \"date\",\n",
    "            \"values\": {\n",
    "                \"min\":  \"1930-02-23\",\n",
    "                \"max\": \"2024-06-04\"\n",
    "            }\n",
    "        }, \n",
    "        {\n",
    "            \"name\": \"enfermedad\",\n",
    "            \"type\": \"foreign\",\n",
    "            \"values\": \"enfermedades.id\"\n",
    "        }\n",
    "    ],\n",
    "    \"random\": True,\n",
    "    \"random_rows\": 10000000\n",
    "}"
   ]
  },
  {
   "cell_type": "code",
   "execution_count": 3,
   "id": "300c0f6f-bb6f-4229-8101-dba6017adda0",
   "metadata": {},
   "outputs": [],
   "source": [
    "d5 = {\n",
    "    \"ds\": \"enfermedades\",\n",
    "    \"columns\": [\n",
    "        {\n",
    "            \"name\": \"id\",\n",
    "            \"type\": \"unique\",\n",
    "        },\n",
    "        {\n",
    "            \"name\": \"estado\",\n",
    "            \"type\": \"category\",\n",
    "            \"values\": [\"leve\", \"moderado\", \"grave\"]\n",
    "        },\n",
    "        {\n",
    "            \"name\": \"porcentaje_recuperacion\",\n",
    "            \"type\": \"numeric\",\n",
    "            \"values\": {\n",
    "                \"min\": 1,\n",
    "                \"max\": 80.97,\n",
    "                \"std\": 3.48,\n",
    "                \"mean\": 75.9\n",
    "            }\n",
    "        }\n",
    "    ],\n",
    "    \"random\": False\n",
    "}"
   ]
  },
  {
   "cell_type": "markdown",
   "id": "5704476b-5f52-45cc-b69c-72e558ec0a7c",
   "metadata": {},
   "source": [
    "Ejemplo de la sintaxis de los datasets"
   ]
  },
  {
   "cell_type": "code",
   "execution_count": null,
   "id": "7bd8b427-5e7d-4c2d-9f2e-8085d01f37ec",
   "metadata": {},
   "outputs": [],
   "source": [
    "d0 = {\n",
    "    \"ds\": \"dataset1\",\n",
    "    \"columns\": [\n",
    "        {\n",
    "            \"name\": \"r\",\n",
    "            \"type\": \"category\",\n",
    "            \"values\": []\n",
    "        },\n",
    "        {\"name\": \"id\", \"type\": \"unique\"}\n",
    "    ],\n",
    "    \"random\": False\n",
    "}"
   ]
  },
  {
   "cell_type": "code",
   "execution_count": 28,
   "id": "8a6a92be-237d-42ed-8b70-6a7b66876937",
   "metadata": {},
   "outputs": [
    {
     "data": {
      "text/plain": [
       "8776"
      ]
     },
     "execution_count": 28,
     "metadata": {},
     "output_type": "execute_result"
    }
   ],
   "source": [
    "\n",
    "import pandas as pd\n",
    "\n",
    "days = (\n",
    "    pd.to_datetime(\"2024-03-04\") -\n",
    "    pd.to_datetime(\"2000-02-23\")\n",
    "    \n",
    "    ).days\n",
    "\n",
    "days"
   ]
  },
  {
   "cell_type": "code",
   "execution_count": null,
   "id": "c0251023-f230-42e7-bc7e-dc0eb59ec35a",
   "metadata": {},
   "outputs": [],
   "source": []
  }
 ],
 "metadata": {
  "kernelspec": {
   "display_name": "Python 3 (ipykernel)",
   "language": "python",
   "name": "python3"
  },
  "language_info": {
   "codemirror_mode": {
    "name": "ipython",
    "version": 3
   },
   "file_extension": ".py",
   "mimetype": "text/x-python",
   "name": "python",
   "nbconvert_exporter": "python",
   "pygments_lexer": "ipython3",
   "version": "3.11.7"
  }
 },
 "nbformat": 4,
 "nbformat_minor": 5
}
